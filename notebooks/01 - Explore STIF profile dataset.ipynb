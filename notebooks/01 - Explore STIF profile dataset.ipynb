{
 "cells": [
  {
   "cell_type": "markdown",
   "metadata": {},
   "source": [
    "# STIF Open data"
   ]
  },
  {
   "cell_type": "code",
   "execution_count": 28,
   "metadata": {
    "ExecuteTime": {
     "end_time": "2018-04-01T07:05:10.130169Z",
     "start_time": "2018-04-01T07:05:10.081064Z"
    }
   },
   "outputs": [],
   "source": [
    "import matplotlib.pyplot as plt\n",
    "import pandas as pd\n",
    "import seaborn as sns\n",
    "pd.set_option('display.max_colwidth',-1)\n",
    "\n",
    "sns.set_style(\"whitegrid\")\n",
    "sns.set_context('notebook')\n",
    "\n",
    "%matplotlib inline\n",
    "plt.rcParams[\"figure.figsize\"] = (14,6)\n",
    "\n",
    "%reload_ext autoreload\n",
    "%autoreload 2"
   ]
  },
  {
   "cell_type": "markdown",
   "metadata": {},
   "source": [
    "Load data"
   ]
  },
  {
   "cell_type": "code",
   "execution_count": 2,
   "metadata": {
    "ExecuteTime": {
     "end_time": "2018-04-01T07:04:24.116108Z",
     "start_time": "2018-04-01T07:04:18.272851Z"
    }
   },
   "outputs": [],
   "source": [
    "df = pd.read_feather('../data/processed/profile-2017.feather')"
   ]
  },
  {
   "cell_type": "code",
   "execution_count": 3,
   "metadata": {
    "ExecuteTime": {
     "end_time": "2018-04-01T07:04:24.164302Z",
     "start_time": "2018-04-01T07:04:24.117964Z"
    }
   },
   "outputs": [
    {
     "data": {
      "text/html": [
       "<div>\n",
       "<style scoped>\n",
       "    .dataframe tbody tr th:only-of-type {\n",
       "        vertical-align: middle;\n",
       "    }\n",
       "\n",
       "    .dataframe tbody tr th {\n",
       "        vertical-align: top;\n",
       "    }\n",
       "\n",
       "    .dataframe thead th {\n",
       "        text-align: right;\n",
       "    }\n",
       "</style>\n",
       "<table border=\"1\" class=\"dataframe\">\n",
       "  <thead>\n",
       "    <tr style=\"text-align: right;\">\n",
       "      <th></th>\n",
       "      <th>cat_jour</th>\n",
       "      <th>libelle_arret</th>\n",
       "      <th>trnc_horr_60</th>\n",
       "      <th>pourc_validations</th>\n",
       "      <th>heure</th>\n",
       "      <th>sem</th>\n",
       "    </tr>\n",
       "  </thead>\n",
       "  <tbody>\n",
       "    <tr>\n",
       "      <th>0</th>\n",
       "      <td>savs</td>\n",
       "      <td>republique</td>\n",
       "      <td>5h-6h</td>\n",
       "      <td>0.61</td>\n",
       "      <td>5.0</td>\n",
       "      <td>s1-2017</td>\n",
       "    </tr>\n",
       "    <tr>\n",
       "      <th>1</th>\n",
       "      <td>dijfp</td>\n",
       "      <td>reuilly-diderot</td>\n",
       "      <td>15h-16h</td>\n",
       "      <td>8.93</td>\n",
       "      <td>15.0</td>\n",
       "      <td>s1-2017</td>\n",
       "    </tr>\n",
       "    <tr>\n",
       "      <th>2</th>\n",
       "      <td>dijfp</td>\n",
       "      <td>reuilly-diderot</td>\n",
       "      <td>2h-3h</td>\n",
       "      <td>0.01</td>\n",
       "      <td>2.0</td>\n",
       "      <td>s1-2017</td>\n",
       "    </tr>\n",
       "    <tr>\n",
       "      <th>3</th>\n",
       "      <td>dijfp</td>\n",
       "      <td>reuilly-diderot</td>\n",
       "      <td>6h-7h</td>\n",
       "      <td>1.15</td>\n",
       "      <td>6.0</td>\n",
       "      <td>s1-2017</td>\n",
       "    </tr>\n",
       "    <tr>\n",
       "      <th>4</th>\n",
       "      <td>johv</td>\n",
       "      <td>reuilly-diderot</td>\n",
       "      <td>0h-1h</td>\n",
       "      <td>0.61</td>\n",
       "      <td>0.0</td>\n",
       "      <td>s1-2017</td>\n",
       "    </tr>\n",
       "  </tbody>\n",
       "</table>\n",
       "</div>"
      ],
      "text/plain": [
       "  cat_jour    libelle_arret trnc_horr_60  pourc_validations  heure      sem\n",
       "0  savs     republique       5h-6h        0.61               5.0    s1-2017\n",
       "1  dijfp    reuilly-diderot  15h-16h      8.93               15.0   s1-2017\n",
       "2  dijfp    reuilly-diderot  2h-3h        0.01               2.0    s1-2017\n",
       "3  dijfp    reuilly-diderot  6h-7h        1.15               6.0    s1-2017\n",
       "4  johv     reuilly-diderot  0h-1h        0.61               0.0    s1-2017"
      ]
     },
     "execution_count": 3,
     "metadata": {},
     "output_type": "execute_result"
    }
   ],
   "source": [
    "df.head()"
   ]
  },
  {
   "cell_type": "code",
   "execution_count": 4,
   "metadata": {
    "ExecuteTime": {
     "end_time": "2018-04-01T07:04:24.455935Z",
     "start_time": "2018-04-01T07:04:24.166218Z"
    }
   },
   "outputs": [],
   "source": [
    "df = pd.read_feather('../data/raw/profile-2017.feather')\n",
    "df=df.rename(columns={'libelle_arret':'stop',\n",
    "                      'cat_jour':'profile',\n",
    "                  'trnc_horr_60':'slice',\n",
    "                  'pourc_validations':'value',\n",
    "                  'heure':'hour'}).drop(columns='index')"
   ]
  },
  {
   "cell_type": "code",
   "execution_count": 5,
   "metadata": {
    "ExecuteTime": {
     "end_time": "2018-04-01T07:04:24.502513Z",
     "start_time": "2018-04-01T07:04:24.457586Z"
    }
   },
   "outputs": [
    {
     "data": {
      "text/plain": [
       "Jour Ouvré Hors Vacances Scolaires             14395\n",
       "Jour Ouvré en période de Vacances Scolaires    14184\n",
       "Dimanche et Jour Férié et les ponts            14087\n",
       "Samedi Hors Vacances Scolaires                 13888\n",
       "Samedi en période de Vacances Scolaires        13655\n",
       "Name: profile, dtype: int64"
      ]
     },
     "execution_count": 5,
     "metadata": {},
     "output_type": "execute_result"
    }
   ],
   "source": [
    "df.profile.value_counts()"
   ]
  },
  {
   "cell_type": "code",
   "execution_count": 6,
   "metadata": {
    "ExecuteTime": {
     "end_time": "2018-04-01T07:04:24.540511Z",
     "start_time": "2018-04-01T07:04:24.504151Z"
    }
   },
   "outputs": [
    {
     "data": {
      "text/html": [
       "<div>\n",
       "<style scoped>\n",
       "    .dataframe tbody tr th:only-of-type {\n",
       "        vertical-align: middle;\n",
       "    }\n",
       "\n",
       "    .dataframe tbody tr th {\n",
       "        vertical-align: top;\n",
       "    }\n",
       "\n",
       "    .dataframe thead th {\n",
       "        text-align: right;\n",
       "    }\n",
       "</style>\n",
       "<table border=\"1\" class=\"dataframe\">\n",
       "  <thead>\n",
       "    <tr style=\"text-align: right;\">\n",
       "      <th></th>\n",
       "      <th>profile</th>\n",
       "      <th>stop</th>\n",
       "      <th>slice</th>\n",
       "      <th>value</th>\n",
       "      <th>hour</th>\n",
       "      <th>sem</th>\n",
       "    </tr>\n",
       "  </thead>\n",
       "  <tbody>\n",
       "    <tr>\n",
       "      <th>0</th>\n",
       "      <td>Samedi en période de Vacances Scolaires</td>\n",
       "      <td>REPUBLIQUE</td>\n",
       "      <td>5H-6H</td>\n",
       "      <td>0.61</td>\n",
       "      <td>5.0</td>\n",
       "      <td>S1-2017</td>\n",
       "    </tr>\n",
       "    <tr>\n",
       "      <th>1</th>\n",
       "      <td>Dimanche et Jour Férié et les ponts</td>\n",
       "      <td>REUILLY-DIDEROT</td>\n",
       "      <td>15H-16H</td>\n",
       "      <td>8.93</td>\n",
       "      <td>15.0</td>\n",
       "      <td>S1-2017</td>\n",
       "    </tr>\n",
       "    <tr>\n",
       "      <th>2</th>\n",
       "      <td>Dimanche et Jour Férié et les ponts</td>\n",
       "      <td>REUILLY-DIDEROT</td>\n",
       "      <td>2H-3H</td>\n",
       "      <td>0.01</td>\n",
       "      <td>2.0</td>\n",
       "      <td>S1-2017</td>\n",
       "    </tr>\n",
       "    <tr>\n",
       "      <th>3</th>\n",
       "      <td>Dimanche et Jour Férié et les ponts</td>\n",
       "      <td>REUILLY-DIDEROT</td>\n",
       "      <td>6H-7H</td>\n",
       "      <td>1.15</td>\n",
       "      <td>6.0</td>\n",
       "      <td>S1-2017</td>\n",
       "    </tr>\n",
       "    <tr>\n",
       "      <th>4</th>\n",
       "      <td>Jour Ouvré Hors Vacances Scolaires</td>\n",
       "      <td>REUILLY-DIDEROT</td>\n",
       "      <td>0H-1H</td>\n",
       "      <td>0.61</td>\n",
       "      <td>0.0</td>\n",
       "      <td>S1-2017</td>\n",
       "    </tr>\n",
       "  </tbody>\n",
       "</table>\n",
       "</div>"
      ],
      "text/plain": [
       "                                   profile             stop    slice  value  \\\n",
       "0  Samedi en période de Vacances Scolaires  REPUBLIQUE       5H-6H    0.61    \n",
       "1  Dimanche et Jour Férié et les ponts      REUILLY-DIDEROT  15H-16H  8.93    \n",
       "2  Dimanche et Jour Férié et les ponts      REUILLY-DIDEROT  2H-3H    0.01    \n",
       "3  Dimanche et Jour Férié et les ponts      REUILLY-DIDEROT  6H-7H    1.15    \n",
       "4  Jour Ouvré Hors Vacances Scolaires       REUILLY-DIDEROT  0H-1H    0.61    \n",
       "\n",
       "   hour      sem  \n",
       "0  5.0   S1-2017  \n",
       "1  15.0  S1-2017  \n",
       "2  2.0   S1-2017  \n",
       "3  6.0   S1-2017  \n",
       "4  0.0   S1-2017  "
      ]
     },
     "execution_count": 6,
     "metadata": {},
     "output_type": "execute_result"
    }
   ],
   "source": [
    "df.head()"
   ]
  },
  {
   "cell_type": "markdown",
   "metadata": {
    "ExecuteTime": {
     "end_time": "2018-03-21T19:04:14.764740Z",
     "start_time": "2018-03-21T19:04:14.743153Z"
    }
   },
   "source": [
    "## Data description\n",
    "\n",
    "**stop**\n",
    "\n",
    "Metro station\n",
    "\n",
    "**profile**\n",
    "\n",
    "Specific profile define by the STIF where the pattern of customers are similar.\n",
    "\n",
    "For example the usual working week (monday->friday) is a profile, weekend & day-off are another one, ...\n",
    "\n",
    "**value**\n",
    "\n",
    "Fraction of the daily traffic. As it it is normalized between 0 and 100, the sum of all slice for a give day should be 100. \n",
    "\n",
    "**slice**\n",
    "\n",
    "Textual representation of the hour\n",
    "\n",
    "**hour**\n",
    "\n",
    "Number representing the hour slice. e.g *4* means from 4 to 5h"
   ]
  },
  {
   "cell_type": "markdown",
   "metadata": {},
   "source": [
    "## Filtering"
   ]
  },
  {
   "cell_type": "markdown",
   "metadata": {},
   "source": [
    "I'm  only interested by working weekday (monday-friday) at likely buisness hour (7-21h)"
   ]
  },
  {
   "cell_type": "code",
   "execution_count": 7,
   "metadata": {
    "ExecuteTime": {
     "end_time": "2018-04-01T07:04:24.590264Z",
     "start_time": "2018-04-01T07:04:24.542118Z"
    }
   },
   "outputs": [],
   "source": [
    "df_workday = (df\n",
    "              .query('profile ==\"Jour Ouvré Hors Vacances Scolaires\" and (hour >= 7 and hour <22)')\n",
    "              .assign(hour=lambda x :x['hour'].astype(int))\n",
    "             )"
   ]
  },
  {
   "cell_type": "markdown",
   "metadata": {},
   "source": [
    "## Checking assumptions \n"
   ]
  },
  {
   "cell_type": "markdown",
   "metadata": {},
   "source": [
    "### Distribution of data per hour\n",
    "\n",
    "\n",
    "\n"
   ]
  },
  {
   "cell_type": "code",
   "execution_count": 8,
   "metadata": {
    "ExecuteTime": {
     "end_time": "2018-04-01T07:04:24.619078Z",
     "start_time": "2018-04-01T07:04:24.592081Z"
    }
   },
   "outputs": [],
   "source": [
    "expected_hours = set(range(7,22))\n",
    "nb_semester = 2"
   ]
  },
  {
   "cell_type": "code",
   "execution_count": 9,
   "metadata": {
    "ExecuteTime": {
     "end_time": "2018-04-01T07:04:24.648139Z",
     "start_time": "2018-04-01T07:04:24.620669Z"
    }
   },
   "outputs": [],
   "source": [
    "assert set(df_workday.hour.unique()) == expected_hours"
   ]
  },
  {
   "cell_type": "code",
   "execution_count": 10,
   "metadata": {
    "ExecuteTime": {
     "end_time": "2018-04-01T07:04:24.698259Z",
     "start_time": "2018-04-01T07:04:24.651792Z"
    }
   },
   "outputs": [
    {
     "data": {
      "text/plain": [
       "stop\n",
       "CHATEAU ROUGE    17\n",
       "Name: hour, dtype: int64"
      ]
     },
     "execution_count": 10,
     "metadata": {},
     "output_type": "execute_result"
    }
   ],
   "source": [
    "df_count_hour = df_workday.groupby('stop').count()['hour']\n",
    "mask = (df_count_hour== len(expected_hours)*nb_semester)\n",
    "df_count_hour[~mask]"
   ]
  },
  {
   "cell_type": "markdown",
   "metadata": {
    "ExecuteTime": {
     "end_time": "2018-03-21T08:58:29.322259Z",
     "start_time": "2018-03-21T08:58:29.160412Z"
    }
   },
   "source": [
    "CHATEAU ROUGE contains only 17 records which make the data not reliable. \n",
    "\n",
    "The missing values only concern the S1-2017, S2 seems ok.\n",
    "\n",
    "It's unlikey that the metro was only open for two hours on a give day."
   ]
  },
  {
   "cell_type": "code",
   "execution_count": 11,
   "metadata": {
    "ExecuteTime": {
     "end_time": "2018-04-01T07:04:24.734773Z",
     "start_time": "2018-04-01T07:04:24.700952Z"
    }
   },
   "outputs": [
    {
     "data": {
      "text/plain": [
       "sem\n",
       "S1-2017    2 \n",
       "S2-2017    15\n",
       "Name: hour, dtype: int64"
      ]
     },
     "execution_count": 11,
     "metadata": {},
     "output_type": "execute_result"
    }
   ],
   "source": [
    "(df_workday.query('stop == \"CHATEAU ROUGE\"')\n",
    " .sort_values('hour')\n",
    " .groupby('sem')\n",
    " .count()['hour'])"
   ]
  },
  {
   "cell_type": "code",
   "execution_count": 12,
   "metadata": {
    "ExecuteTime": {
     "end_time": "2018-04-01T07:04:24.767866Z",
     "start_time": "2018-04-01T07:04:24.736405Z"
    }
   },
   "outputs": [],
   "source": [
    "#filter out inconsistent data\n",
    "df_workday = df_workday.query('not(stop == \"CHATEAU ROUGE\" and sem==\"S1-2017\")')\\\n",
    "                       .drop(columns='profile')"
   ]
  },
  {
   "cell_type": "markdown",
   "metadata": {},
   "source": [
    "### Data consistency"
   ]
  },
  {
   "cell_type": "markdown",
   "metadata": {},
   "source": [
    "value should add to 100 for each stop in each semester"
   ]
  },
  {
   "cell_type": "code",
   "execution_count": 13,
   "metadata": {
    "ExecuteTime": {
     "end_time": "2018-04-01T07:04:24.806857Z",
     "start_time": "2018-04-01T07:04:24.769547Z"
    }
   },
   "outputs": [
    {
     "data": {
      "text/plain": [
       "array(['Samedi en période de Vacances Scolaires',\n",
       "       'Dimanche et Jour Férié et les ponts',\n",
       "       'Jour Ouvré Hors Vacances Scolaires',\n",
       "       'Jour Ouvré en période de Vacances Scolaires',\n",
       "       'Samedi Hors Vacances Scolaires'], dtype=object)"
      ]
     },
     "execution_count": 13,
     "metadata": {},
     "output_type": "execute_result"
    }
   ],
   "source": [
    "df.profile.unique()"
   ]
  },
  {
   "cell_type": "code",
   "execution_count": 14,
   "metadata": {
    "ExecuteTime": {
     "end_time": "2018-04-01T07:04:24.849940Z",
     "start_time": "2018-04-01T07:04:24.808497Z"
    }
   },
   "outputs": [],
   "source": [
    "pct_check =(df.query(\"profile =='Jour Ouvré Hors Vacances Scolaires'\")\n",
    " .groupby(['stop','sem'])['value'].sum())"
   ]
  },
  {
   "cell_type": "code",
   "execution_count": 15,
   "metadata": {
    "ExecuteTime": {
     "end_time": "2018-04-01T07:04:24.887843Z",
     "start_time": "2018-04-01T07:04:24.851760Z"
    }
   },
   "outputs": [
    {
     "data": {
      "text/plain": [
       "count    602.000000\n",
       "mean     99.996993 \n",
       "std      0.014437  \n",
       "min      99.960000 \n",
       "25%      99.990000 \n",
       "50%      100.000000\n",
       "75%      100.010000\n",
       "max      100.030000\n",
       "Name: value, dtype: float64"
      ]
     },
     "execution_count": 15,
     "metadata": {},
     "output_type": "execute_result"
    }
   ],
   "source": [
    "pct_check.describe()"
   ]
  },
  {
   "cell_type": "markdown",
   "metadata": {},
   "source": [
    "There is a slight difference but it is acceptable for our need"
   ]
  },
  {
   "cell_type": "markdown",
   "metadata": {},
   "source": [
    "## Data exploration"
   ]
  },
  {
   "cell_type": "code",
   "execution_count": 16,
   "metadata": {
    "ExecuteTime": {
     "end_time": "2018-04-01T07:04:24.921112Z",
     "start_time": "2018-04-01T07:04:24.889655Z"
    }
   },
   "outputs": [
    {
     "data": {
      "text/plain": [
       "count    9015.000000\n",
       "mean     6.226153   \n",
       "std      3.454884   \n",
       "min      0.640000   \n",
       "25%      3.925000   \n",
       "50%      5.170000   \n",
       "75%      7.850000   \n",
       "max      31.400000  \n",
       "Name: value, dtype: float64"
      ]
     },
     "execution_count": 16,
     "metadata": {},
     "output_type": "execute_result"
    }
   ],
   "source": [
    "df_workday.value.describe()"
   ]
  },
  {
   "cell_type": "markdown",
   "metadata": {},
   "source": [
    "According to the summary looks like there is a long tail to the right"
   ]
  },
  {
   "cell_type": "code",
   "execution_count": 31,
   "metadata": {
    "ExecuteTime": {
     "end_time": "2018-04-01T07:05:30.095879Z",
     "start_time": "2018-04-01T07:05:29.691199Z"
    }
   },
   "outputs": [
    {
     "name": "stderr",
     "output_type": "stream",
     "text": [
      "/home/khalid/.pyenv/versions/3.6.2/envs/paris_metro/lib/python3.6/site-packages/matplotlib/axes/_axes.py:6462: UserWarning: The 'normed' kwarg is deprecated, and has been replaced by the 'density' kwarg.\n",
      "  warnings.warn(\"The 'normed' kwarg is deprecated, and has been \"\n"
     ]
    },
    {
     "data": {
      "text/plain": [
       "Text(0.5,1,'Validation distribution per hour')"
      ]
     },
     "execution_count": 31,
     "metadata": {},
     "output_type": "execute_result"
    },
    {
     "data": {
      "image/png": "[encoded data removed]",
      "text/plain": [
       "<Figure size 1008x432 with 1 Axes>"
      ]
     },
     "metadata": {},
     "output_type": "display_data"
    }
   ],
   "source": [
    "ax = sns.distplot(df_workday.value)\n",
    "ax.set_title('Validation distribution per hour')"
   ]
  },
  {
   "cell_type": "markdown",
   "metadata": {},
   "source": [
    "The distribution is  skewed to the right\n",
    "\n",
    "Identification of outliers with MAD(Median Absolute Deviation) should do the trick "
   ]
  },
  {
   "cell_type": "markdown",
   "metadata": {},
   "source": [
    "### Outliers analysis"
   ]
  },
  {
   "cell_type": "code",
   "execution_count": 20,
   "metadata": {
    "ExecuteTime": {
     "end_time": "2018-04-01T07:04:48.113917Z",
     "start_time": "2018-04-01T07:04:48.078971Z"
    }
   },
   "outputs": [],
   "source": [
    "import numpy as np\n",
    "\n",
    "#courtesy : \n",
    "##idea : http://eurekastatistics.com/using-the-median-absolute-deviation-to-find-outliers/\n",
    "##code :https://stackoverflow.com/a/29222992/5538961\n",
    "def doubleMAD(y,thresh=3.5):\n",
    "    m = np.median(y)\n",
    "    abs_dev = np.abs(y - m)\n",
    "    left_mad = np.median(abs_dev[y <= m])\n",
    "    right_mad = np.median(abs_dev[y >= m])\n",
    "    y_mad = left_mad * np.ones(len(y))\n",
    "    y_mad[y > m] = right_mad\n",
    "    modified_z_score = 0.6745 * abs_dev / y_mad\n",
    "    modified_z_score[y == m] = 0\n",
    "    return modified_z_score > thresh"
   ]
  },
  {
   "cell_type": "code",
   "execution_count": 21,
   "metadata": {
    "ExecuteTime": {
     "end_time": "2018-04-01T07:04:48.531873Z",
     "start_time": "2018-04-01T07:04:48.485090Z"
    }
   },
   "outputs": [],
   "source": [
    "outliers = df_workday[doubleMAD(df_workday.value)]"
   ]
  },
  {
   "cell_type": "code",
   "execution_count": 22,
   "metadata": {
    "ExecuteTime": {
     "end_time": "2018-04-01T07:04:50.162644Z",
     "start_time": "2018-04-01T07:04:50.114161Z"
    }
   },
   "outputs": [
    {
     "data": {
      "text/html": [
       "<div>\n",
       "<style scoped>\n",
       "    .dataframe tbody tr th:only-of-type {\n",
       "        vertical-align: middle;\n",
       "    }\n",
       "\n",
       "    .dataframe tbody tr th {\n",
       "        vertical-align: top;\n",
       "    }\n",
       "\n",
       "    .dataframe thead th {\n",
       "        text-align: right;\n",
       "    }\n",
       "</style>\n",
       "<table border=\"1\" class=\"dataframe\">\n",
       "  <thead>\n",
       "    <tr style=\"text-align: right;\">\n",
       "      <th></th>\n",
       "      <th>value</th>\n",
       "      <th>hour</th>\n",
       "    </tr>\n",
       "  </thead>\n",
       "  <tbody>\n",
       "    <tr>\n",
       "      <th>count</th>\n",
       "      <td>44.000000</td>\n",
       "      <td>44.000000</td>\n",
       "    </tr>\n",
       "    <tr>\n",
       "      <th>mean</th>\n",
       "      <td>21.130682</td>\n",
       "      <td>10.954545</td>\n",
       "    </tr>\n",
       "    <tr>\n",
       "      <th>std</th>\n",
       "      <td>2.599905</td>\n",
       "      <td>4.615215</td>\n",
       "    </tr>\n",
       "    <tr>\n",
       "      <th>min</th>\n",
       "      <td>19.090000</td>\n",
       "      <td>8.000000</td>\n",
       "    </tr>\n",
       "    <tr>\n",
       "      <th>25%</th>\n",
       "      <td>19.800000</td>\n",
       "      <td>8.000000</td>\n",
       "    </tr>\n",
       "    <tr>\n",
       "      <th>50%</th>\n",
       "      <td>20.200000</td>\n",
       "      <td>8.000000</td>\n",
       "    </tr>\n",
       "    <tr>\n",
       "      <th>75%</th>\n",
       "      <td>21.257500</td>\n",
       "      <td>18.000000</td>\n",
       "    </tr>\n",
       "    <tr>\n",
       "      <th>max</th>\n",
       "      <td>31.400000</td>\n",
       "      <td>18.000000</td>\n",
       "    </tr>\n",
       "  </tbody>\n",
       "</table>\n",
       "</div>"
      ],
      "text/plain": [
       "           value       hour\n",
       "count  44.000000  44.000000\n",
       "mean   21.130682  10.954545\n",
       "std    2.599905   4.615215 \n",
       "min    19.090000  8.000000 \n",
       "25%    19.800000  8.000000 \n",
       "50%    20.200000  8.000000 \n",
       "75%    21.257500  18.000000\n",
       "max    31.400000  18.000000"
      ]
     },
     "execution_count": 22,
     "metadata": {},
     "output_type": "execute_result"
    }
   ],
   "source": [
    "outliers.describe()"
   ]
  },
  {
   "cell_type": "code",
   "execution_count": 30,
   "metadata": {
    "ExecuteTime": {
     "end_time": "2018-04-01T07:05:22.681195Z",
     "start_time": "2018-04-01T07:05:22.468974Z"
    }
   },
   "outputs": [
    {
     "data": {
      "image/png": "[encoded data removed]",
      "text/plain": [
       "<Figure size 1008x432 with 1 Axes>"
      ]
     },
     "metadata": {},
     "output_type": "display_data"
    }
   ],
   "source": [
    "import matplotlib as plt\n",
    "ax=outliers.hour.value_counts().plot(kind='barh')"
   ]
  },
  {
   "cell_type": "markdown",
   "metadata": {},
   "source": [
    "These outliers seems to make sense, 8h and 18h are the rush hour expected in a weekday"
   ]
  },
  {
   "cell_type": "code",
   "execution_count": 24,
   "metadata": {
    "ExecuteTime": {
     "end_time": "2018-04-01T07:04:58.557670Z",
     "start_time": "2018-04-01T07:04:58.453451Z"
    }
   },
   "outputs": [],
   "source": [
    "ratp = pd.read_feather('../data/processed/ratp_line.feather')"
   ]
  },
  {
   "cell_type": "markdown",
   "metadata": {},
   "source": [
    "## When should I take the metro to avoid too many people ?"
   ]
  },
  {
   "cell_type": "code",
   "execution_count": 25,
   "metadata": {
    "ExecuteTime": {
     "end_time": "2018-04-01T07:05:00.751619Z",
     "start_time": "2018-04-01T07:05:00.725175Z"
    }
   },
   "outputs": [],
   "source": [
    "#ax=sns.boxplot(x='heure',y='pourc_validations',hue='sem',data=df_ouvre.query('heure>=6'))"
   ]
  },
  {
   "cell_type": "markdown",
   "metadata": {},
   "source": [
    "In regular weekday, on average, you'll be with a lot of users in the metro between 8-9h.\n",
    "\n",
    "Before 8h or after 10h seems like a better bet.\n",
    "\n",
    "It's harder to avoid the pack at the end of the day as the crowd appear between 17-19h.\n"
   ]
  },
  {
   "cell_type": "code",
   "execution_count": 29,
   "metadata": {
    "ExecuteTime": {
     "end_time": "2018-04-01T07:05:18.480843Z",
     "start_time": "2018-04-01T07:05:17.771089Z"
    }
   },
   "outputs": [
    {
     "data": {
      "text/plain": [
       "(0, 12)"
      ]
     },
     "execution_count": 29,
     "metadata": {},
     "output_type": "execute_result"
    },
    {
     "data": {
      "image/png": "[encoded data removed]",
      "text/plain": [
       "<Figure size 1008x432 with 1 Axes>"
      ]
     },
     "metadata": {},
     "output_type": "display_data"
    }
   ],
   "source": [
    "ax=sns.barplot(x='hour',y='value',data=df_workday)\n",
    "ax.set_title('Average metro user per hour')\n",
    "ax.set_ylabel('%')\n",
    "ax.set_xlabel('hour(24h)')\n",
    "ax.set_ylim(0,12)"
   ]
  },
  {
   "cell_type": "markdown",
   "metadata": {},
   "source": [
    "Overview of other profiles :"
   ]
  },
  {
   "cell_type": "code",
   "execution_count": 40,
   "metadata": {
    "ExecuteTime": {
     "end_time": "2018-04-01T07:13:45.581486Z",
     "start_time": "2018-04-01T07:13:45.531286Z"
    }
   },
   "outputs": [],
   "source": [
    "df_clean = (df\n",
    "              .query('(hour >= 7 and hour <22)')\n",
    "              .assign(hour=lambda x :x['hour'].astype(int))\n",
    "             )"
   ]
  },
  {
   "cell_type": "code",
   "execution_count": 42,
   "metadata": {
    "ExecuteTime": {
     "end_time": "2018-04-01T07:14:21.600231Z",
     "start_time": "2018-04-01T07:14:18.517157Z"
    }
   },
   "outputs": [
    {
     "data": {
      "text/plain": [
       "<seaborn.axisgrid.FacetGrid at 0x7f40996fc9e8>"
      ]
     },
     "execution_count": 42,
     "metadata": {},
     "output_type": "execute_result"
    },
    {
     "data": {
      "image/png": "[encoded data removed]",
      "text/plain": [
       "<Figure size 720x1080 with 5 Axes>"
      ]
     },
     "metadata": {},
     "output_type": "display_data"
    }
   ],
   "source": [
    "sns.factorplot(\n",
    "    x='hour',\n",
    "    y='value',\n",
    "    col='profile',\n",
    "    data=df_clean,\n",
    "    kind='bar',\n",
    "    size=5,\n",
    "    col_wrap=2\n",
    ")"
   ]
  },
  {
   "cell_type": "code",
   "execution_count": null,
   "metadata": {
    "ExecuteTime": {
     "end_time": "2018-04-01T07:04:25.479685Z",
     "start_time": "2018-04-01T07:04:16.992Z"
    }
   },
   "outputs": [],
   "source": [
    "#ax=sns.boxplot(x='heure',y='value',hue='hour',data=df_ouvre.query('heure>=6'))"
   ]
  }
 ],
 "metadata": {
  "kernelspec": {
   "display_name": "Python 3",
   "language": "python",
   "name": "python3"
  },
  "language_info": {
   "codemirror_mode": {
    "name": "ipython",
    "version": 3
   },
   "file_extension": ".py",
   "mimetype": "text/x-python",
   "name": "python",
   "nbconvert_exporter": "python",
   "pygments_lexer": "ipython3",
   "version": "3.6.2"
  },
  "toc": {
   "nav_menu": {},
   "number_sections": true,
   "sideBar": true,
   "skip_h1_title": false,
   "toc_cell": false,
   "toc_position": {},
   "toc_section_display": "block",
   "toc_window_display": true
  }
 },
 "nbformat": 4,
 "nbformat_minor": 2
}
