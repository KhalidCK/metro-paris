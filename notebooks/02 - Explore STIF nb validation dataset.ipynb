{
 "cells": [
  {
   "cell_type": "code",
   "execution_count": 1,
   "metadata": {
    "ExecuteTime": {
     "end_time": "2018-03-24T19:31:05.644086Z",
     "start_time": "2018-03-24T19:31:05.088044Z"
    }
   },
   "outputs": [],
   "source": [
    "import matplotlib.pyplot as plt\n",
    "import pandas as pd\n",
    "import seaborn as sns\n",
    "pd.set_option('display.max_colwidth',-1)\n",
    "\n",
    "sns.set_style(\"whitegrid\")\n",
    "sns.set_context('notebook')\n",
    "\n",
    "%matplotlib inline"
   ]
  },
  {
   "cell_type": "code",
   "execution_count": 2,
   "metadata": {
    "ExecuteTime": {
     "end_time": "2018-03-24T19:31:05.657001Z",
     "start_time": "2018-03-24T19:31:05.645362Z"
    }
   },
   "outputs": [],
   "source": [
    "plt.rcParams[\"figure.figsize\"] = (14,6)"
   ]
  },
  {
   "cell_type": "code",
   "execution_count": 3,
   "metadata": {
    "ExecuteTime": {
     "end_time": "2018-03-24T19:31:05.676635Z",
     "start_time": "2018-03-24T19:31:05.658352Z"
    }
   },
   "outputs": [
    {
     "name": "stdout",
     "output_type": "stream",
     "text": [
      "The autoreload extension is already loaded. To reload it, use:\n",
      "  %reload_ext autoreload\n"
     ]
    }
   ],
   "source": [
    "# Load the \"autoreload\" extension\n",
    "%load_ext autoreload\n",
    "\n",
    "# always reload modules marked with \"%aimport\"\n",
    "%autoreload 1\n",
    "\n",
    "import os\n",
    "import sys\n",
    "\n",
    "# add the 'src' directory as one where we can import modules\n",
    "src_dir = os.path.join(os.getcwd(), os.pardir, 'src')\n",
    "sys.path.append(src_dir)\n",
    "\n",
    "# import my method from the source code\n",
    "%aimport data\n",
    "#from preprocess.build_features import remove_invalid_data"
   ]
  },
  {
   "cell_type": "code",
   "execution_count": 4,
   "metadata": {
    "ExecuteTime": {
     "end_time": "2018-03-24T19:31:05.730255Z",
     "start_time": "2018-03-24T19:31:05.677987Z"
    }
   },
   "outputs": [],
   "source": [
    "from data.make_dataset import load_stif,build_nb"
   ]
  },
  {
   "cell_type": "code",
   "execution_count": 83,
   "metadata": {
    "ExecuteTime": {
     "end_time": "2018-03-24T20:51:30.471440Z",
     "start_time": "2018-03-24T20:51:30.340234Z"
    }
   },
   "outputs": [],
   "source": [
    "df = pd.read_feather('../data/processed/nb-validation-2017.feather')"
   ]
  },
  {
   "cell_type": "markdown",
   "metadata": {},
   "source": [
    "## Quick look"
   ]
  },
  {
   "cell_type": "code",
   "execution_count": 6,
   "metadata": {
    "ExecuteTime": {
     "end_time": "2018-03-24T19:31:06.025586Z",
     "start_time": "2018-03-24T19:31:05.895958Z"
    }
   },
   "outputs": [
    {
     "name": "stdout",
     "output_type": "stream",
     "text": [
      "<class 'pandas.core.frame.DataFrame'>\n",
      "RangeIndex: 654978 entries, 0 to 654977\n",
      "Data columns (total 5 columns):\n",
      "kind     654978 non-null object\n",
      "date     654978 non-null datetime64[ns]\n",
      "stop     654978 non-null object\n",
      "value    654978 non-null int64\n",
      "sem      654978 non-null object\n",
      "dtypes: datetime64[ns](1), int64(1), object(3)\n",
      "memory usage: 25.0+ MB\n"
     ]
    }
   ],
   "source": [
    "df.info()"
   ]
  },
  {
   "cell_type": "code",
   "execution_count": 7,
   "metadata": {
    "ExecuteTime": {
     "end_time": "2018-03-24T19:31:06.093937Z",
     "start_time": "2018-03-24T19:31:06.026965Z"
    }
   },
   "outputs": [
    {
     "data": {
      "text/html": [
       "<div>\n",
       "<style scoped>\n",
       "    .dataframe tbody tr th:only-of-type {\n",
       "        vertical-align: middle;\n",
       "    }\n",
       "\n",
       "    .dataframe tbody tr th {\n",
       "        vertical-align: top;\n",
       "    }\n",
       "\n",
       "    .dataframe thead th {\n",
       "        text-align: right;\n",
       "    }\n",
       "</style>\n",
       "<table border=\"1\" class=\"dataframe\">\n",
       "  <thead>\n",
       "    <tr style=\"text-align: right;\">\n",
       "      <th></th>\n",
       "      <th>value</th>\n",
       "    </tr>\n",
       "  </thead>\n",
       "  <tbody>\n",
       "    <tr>\n",
       "      <th>count</th>\n",
       "      <td>654978.000000</td>\n",
       "    </tr>\n",
       "    <tr>\n",
       "      <th>mean</th>\n",
       "      <td>1513.947806</td>\n",
       "    </tr>\n",
       "    <tr>\n",
       "      <th>std</th>\n",
       "      <td>3614.809873</td>\n",
       "    </tr>\n",
       "    <tr>\n",
       "      <th>min</th>\n",
       "      <td>5.000000</td>\n",
       "    </tr>\n",
       "    <tr>\n",
       "      <th>25%</th>\n",
       "      <td>121.000000</td>\n",
       "    </tr>\n",
       "    <tr>\n",
       "      <th>50%</th>\n",
       "      <td>313.000000</td>\n",
       "    </tr>\n",
       "    <tr>\n",
       "      <th>75%</th>\n",
       "      <td>1193.000000</td>\n",
       "    </tr>\n",
       "    <tr>\n",
       "      <th>max</th>\n",
       "      <td>115600.000000</td>\n",
       "    </tr>\n",
       "  </tbody>\n",
       "</table>\n",
       "</div>"
      ],
      "text/plain": [
       "               value\n",
       "count  654978.000000\n",
       "mean   1513.947806  \n",
       "std    3614.809873  \n",
       "min    5.000000     \n",
       "25%    121.000000   \n",
       "50%    313.000000   \n",
       "75%    1193.000000  \n",
       "max    115600.000000"
      ]
     },
     "execution_count": 7,
     "metadata": {},
     "output_type": "execute_result"
    }
   ],
   "source": [
    "df.describe()"
   ]
  },
  {
   "cell_type": "code",
   "execution_count": 8,
   "metadata": {
    "ExecuteTime": {
     "end_time": "2018-03-24T19:31:06.104785Z",
     "start_time": "2018-03-24T19:31:06.095879Z"
    }
   },
   "outputs": [
    {
     "data": {
      "text/html": [
       "<div>\n",
       "<style scoped>\n",
       "    .dataframe tbody tr th:only-of-type {\n",
       "        vertical-align: middle;\n",
       "    }\n",
       "\n",
       "    .dataframe tbody tr th {\n",
       "        vertical-align: top;\n",
       "    }\n",
       "\n",
       "    .dataframe thead th {\n",
       "        text-align: right;\n",
       "    }\n",
       "</style>\n",
       "<table border=\"1\" class=\"dataframe\">\n",
       "  <thead>\n",
       "    <tr style=\"text-align: right;\">\n",
       "      <th></th>\n",
       "      <th>kind</th>\n",
       "      <th>date</th>\n",
       "      <th>stop</th>\n",
       "      <th>value</th>\n",
       "      <th>sem</th>\n",
       "    </tr>\n",
       "  </thead>\n",
       "  <tbody>\n",
       "    <tr>\n",
       "      <th>0</th>\n",
       "      <td>AUTRE TITRE</td>\n",
       "      <td>2017-03-17</td>\n",
       "      <td>BARBES-ROCHECHOUART</td>\n",
       "      <td>349</td>\n",
       "      <td>S1-2017</td>\n",
       "    </tr>\n",
       "    <tr>\n",
       "      <th>1</th>\n",
       "      <td>NAVIGO</td>\n",
       "      <td>2017-03-17</td>\n",
       "      <td>MAIRIE DE MONTREUIL</td>\n",
       "      <td>16509</td>\n",
       "      <td>S1-2017</td>\n",
       "    </tr>\n",
       "    <tr>\n",
       "      <th>2</th>\n",
       "      <td>IMAGINE R</td>\n",
       "      <td>2017-03-17</td>\n",
       "      <td>MAIRIE DE SAINT-OUEN</td>\n",
       "      <td>1807</td>\n",
       "      <td>S1-2017</td>\n",
       "    </tr>\n",
       "    <tr>\n",
       "      <th>3</th>\n",
       "      <td>AUTRE TITRE</td>\n",
       "      <td>2017-03-17</td>\n",
       "      <td>MAIRIE DES LILAS</td>\n",
       "      <td>172</td>\n",
       "      <td>S1-2017</td>\n",
       "    </tr>\n",
       "    <tr>\n",
       "      <th>4</th>\n",
       "      <td>TST</td>\n",
       "      <td>2017-03-17</td>\n",
       "      <td>MAIRIE DES LILAS</td>\n",
       "      <td>542</td>\n",
       "      <td>S1-2017</td>\n",
       "    </tr>\n",
       "  </tbody>\n",
       "</table>\n",
       "</div>"
      ],
      "text/plain": [
       "          kind       date                  stop  value      sem\n",
       "0  AUTRE TITRE 2017-03-17  BARBES-ROCHECHOUART   349    S1-2017\n",
       "1  NAVIGO      2017-03-17  MAIRIE DE MONTREUIL   16509  S1-2017\n",
       "2  IMAGINE R   2017-03-17  MAIRIE DE SAINT-OUEN  1807   S1-2017\n",
       "3  AUTRE TITRE 2017-03-17  MAIRIE DES LILAS      172    S1-2017\n",
       "4  TST         2017-03-17  MAIRIE DES LILAS      542    S1-2017"
      ]
     },
     "execution_count": 8,
     "metadata": {},
     "output_type": "execute_result"
    }
   ],
   "source": [
    "df.head()"
   ]
  },
  {
   "cell_type": "code",
   "execution_count": 9,
   "metadata": {
    "ExecuteTime": {
     "end_time": "2018-03-24T19:31:06.120986Z",
     "start_time": "2018-03-24T19:31:06.106567Z"
    }
   },
   "outputs": [
    {
     "data": {
      "text/plain": [
       "Timestamp('2017-01-01 00:00:00')"
      ]
     },
     "execution_count": 9,
     "metadata": {},
     "output_type": "execute_result"
    }
   ],
   "source": [
    "df.date.min()"
   ]
  },
  {
   "cell_type": "code",
   "execution_count": 10,
   "metadata": {
    "ExecuteTime": {
     "end_time": "2018-03-24T19:31:06.132520Z",
     "start_time": "2018-03-24T19:31:06.122371Z"
    }
   },
   "outputs": [
    {
     "data": {
      "text/plain": [
       "Timestamp('2017-12-31 00:00:00')"
      ]
     },
     "execution_count": 10,
     "metadata": {},
     "output_type": "execute_result"
    }
   ],
   "source": [
    "df.date.max()"
   ]
  },
  {
   "cell_type": "markdown",
   "metadata": {},
   "source": [
    "## Monthly traffic"
   ]
  },
  {
   "cell_type": "code",
   "execution_count": 11,
   "metadata": {
    "ExecuteTime": {
     "end_time": "2018-03-24T19:31:06.203397Z",
     "start_time": "2018-03-24T19:31:06.133727Z"
    }
   },
   "outputs": [],
   "source": [
    "monthly = df.groupby('date').sum().resample('1m').sum()['value']"
   ]
  },
  {
   "cell_type": "code",
   "execution_count": 12,
   "metadata": {
    "ExecuteTime": {
     "end_time": "2018-03-24T19:31:06.207585Z",
     "start_time": "2018-03-24T19:31:06.204757Z"
    }
   },
   "outputs": [],
   "source": [
    "monthly.index = [elt.month for elt in monthly.index]"
   ]
  },
  {
   "cell_type": "code",
   "execution_count": 13,
   "metadata": {
    "ExecuteTime": {
     "end_time": "2018-03-24T19:31:06.416781Z",
     "start_time": "2018-03-24T19:31:06.208906Z"
    }
   },
   "outputs": [
    {
     "data": {
      "text/plain": [
       "Text(0.5,1,'monthly traveler in million')"
      ]
     },
     "execution_count": 13,
     "metadata": {},
     "output_type": "execute_result"
    },
    {
     "data": {
      "image/png": "[encoded data removed]",
      "text/plain": [
       "<matplotlib.figure.Figure at 0x7f66914ca3c8>"
      ]
     },
     "metadata": {},
     "output_type": "display_data"
    }
   ],
   "source": [
    "ax= sns.barplot(x=monthly.index,\n",
    "                y=monthly.div(10**6),\n",
    "               )\n",
    "ax.set_xlabel('2017 month')\n",
    "ax.set_ylabel('traveler')\n",
    "\n",
    "ax.set_title('monthly traveler in million')\n"
   ]
  },
  {
   "cell_type": "code",
   "execution_count": 14,
   "metadata": {
    "ExecuteTime": {
     "end_time": "2018-03-24T19:31:06.427117Z",
     "start_time": "2018-03-24T19:31:06.419698Z"
    }
   },
   "outputs": [],
   "source": [
    "month_pct = monthly.pct_change()"
   ]
  },
  {
   "cell_type": "code",
   "execution_count": 15,
   "metadata": {
    "ExecuteTime": {
     "end_time": "2018-03-24T19:31:06.623470Z",
     "start_time": "2018-03-24T19:31:06.430930Z"
    }
   },
   "outputs": [
    {
     "data": {
      "text/plain": [
       "Text(0.5,1,'Change month over month')"
      ]
     },
     "execution_count": 15,
     "metadata": {},
     "output_type": "execute_result"
    },
    {
     "data": {
      "image/png": "[encoded data removed]",
      "text/plain": [
       "<matplotlib.figure.Figure at 0x7f66919d5080>"
      ]
     },
     "metadata": {},
     "output_type": "display_data"
    }
   ],
   "source": [
    "ax= sns.barplot(x=month_pct.index,\n",
    "                y=month_pct*100,\n",
    "               )\n",
    "ax.set_ylim([month_pct.min()-25,60])\n",
    "ax.set_ylabel('percentage')\n",
    "ax.set_title('Change month over month')"
   ]
  },
  {
   "cell_type": "code",
   "execution_count": 16,
   "metadata": {
    "ExecuteTime": {
     "end_time": "2018-03-24T19:31:06.639186Z",
     "start_time": "2018-03-24T19:31:06.627909Z"
    }
   },
   "outputs": [
    {
     "data": {
      "text/html": [
       "<div>\n",
       "<style scoped>\n",
       "    .dataframe tbody tr th:only-of-type {\n",
       "        vertical-align: middle;\n",
       "    }\n",
       "\n",
       "    .dataframe tbody tr th {\n",
       "        vertical-align: top;\n",
       "    }\n",
       "\n",
       "    .dataframe thead th {\n",
       "        text-align: right;\n",
       "    }\n",
       "</style>\n",
       "<table border=\"1\" class=\"dataframe\">\n",
       "  <thead>\n",
       "    <tr style=\"text-align: right;\">\n",
       "      <th></th>\n",
       "      <th>kind</th>\n",
       "      <th>date</th>\n",
       "      <th>stop</th>\n",
       "      <th>value</th>\n",
       "      <th>sem</th>\n",
       "    </tr>\n",
       "  </thead>\n",
       "  <tbody>\n",
       "    <tr>\n",
       "      <th>0</th>\n",
       "      <td>AUTRE TITRE</td>\n",
       "      <td>2017-03-17</td>\n",
       "      <td>BARBES-ROCHECHOUART</td>\n",
       "      <td>349</td>\n",
       "      <td>S1-2017</td>\n",
       "    </tr>\n",
       "    <tr>\n",
       "      <th>1</th>\n",
       "      <td>NAVIGO</td>\n",
       "      <td>2017-03-17</td>\n",
       "      <td>MAIRIE DE MONTREUIL</td>\n",
       "      <td>16509</td>\n",
       "      <td>S1-2017</td>\n",
       "    </tr>\n",
       "    <tr>\n",
       "      <th>2</th>\n",
       "      <td>IMAGINE R</td>\n",
       "      <td>2017-03-17</td>\n",
       "      <td>MAIRIE DE SAINT-OUEN</td>\n",
       "      <td>1807</td>\n",
       "      <td>S1-2017</td>\n",
       "    </tr>\n",
       "    <tr>\n",
       "      <th>3</th>\n",
       "      <td>AUTRE TITRE</td>\n",
       "      <td>2017-03-17</td>\n",
       "      <td>MAIRIE DES LILAS</td>\n",
       "      <td>172</td>\n",
       "      <td>S1-2017</td>\n",
       "    </tr>\n",
       "    <tr>\n",
       "      <th>4</th>\n",
       "      <td>TST</td>\n",
       "      <td>2017-03-17</td>\n",
       "      <td>MAIRIE DES LILAS</td>\n",
       "      <td>542</td>\n",
       "      <td>S1-2017</td>\n",
       "    </tr>\n",
       "  </tbody>\n",
       "</table>\n",
       "</div>"
      ],
      "text/plain": [
       "          kind       date                  stop  value      sem\n",
       "0  AUTRE TITRE 2017-03-17  BARBES-ROCHECHOUART   349    S1-2017\n",
       "1  NAVIGO      2017-03-17  MAIRIE DE MONTREUIL   16509  S1-2017\n",
       "2  IMAGINE R   2017-03-17  MAIRIE DE SAINT-OUEN  1807   S1-2017\n",
       "3  AUTRE TITRE 2017-03-17  MAIRIE DES LILAS      172    S1-2017\n",
       "4  TST         2017-03-17  MAIRIE DES LILAS      542    S1-2017"
      ]
     },
     "execution_count": 16,
     "metadata": {},
     "output_type": "execute_result"
    }
   ],
   "source": [
    "df.head()"
   ]
  },
  {
   "cell_type": "code",
   "execution_count": 17,
   "metadata": {
    "ExecuteTime": {
     "end_time": "2018-03-24T19:31:06.947376Z",
     "start_time": "2018-03-24T19:31:06.643391Z"
    }
   },
   "outputs": [
    {
     "data": {
      "image/png": "[encoded data removed]",
      "text/plain": [
       "<matplotlib.figure.Figure at 0x7f6691822c88>"
      ]
     },
     "metadata": {},
     "output_type": "display_data"
    }
   ],
   "source": [
    "ax = sns.distplot(df.groupby('stop').sum())\n",
    "ax.set_title('Nb of traveler per station')\n",
    "x = ax.set_ylabel('density')"
   ]
  },
  {
   "cell_type": "markdown",
   "metadata": {},
   "source": [
    "## Popular stops"
   ]
  },
  {
   "cell_type": "code",
   "execution_count": 18,
   "metadata": {
    "ExecuteTime": {
     "end_time": "2018-03-24T19:31:06.957074Z",
     "start_time": "2018-03-24T19:31:06.952180Z"
    }
   },
   "outputs": [],
   "source": [
    "#df.describe()"
   ]
  },
  {
   "cell_type": "code",
   "execution_count": 19,
   "metadata": {
    "ExecuteTime": {
     "end_time": "2018-03-24T19:31:07.057376Z",
     "start_time": "2018-03-24T19:31:06.962546Z"
    }
   },
   "outputs": [
    {
     "data": {
      "text/html": [
       "<div>\n",
       "<style scoped>\n",
       "    .dataframe tbody tr th:only-of-type {\n",
       "        vertical-align: middle;\n",
       "    }\n",
       "\n",
       "    .dataframe tbody tr th {\n",
       "        vertical-align: top;\n",
       "    }\n",
       "\n",
       "    .dataframe thead th {\n",
       "        text-align: right;\n",
       "    }\n",
       "</style>\n",
       "<table border=\"1\" class=\"dataframe\">\n",
       "  <thead>\n",
       "    <tr style=\"text-align: right;\">\n",
       "      <th></th>\n",
       "      <th>value</th>\n",
       "    </tr>\n",
       "    <tr>\n",
       "      <th>stop</th>\n",
       "      <th></th>\n",
       "    </tr>\n",
       "  </thead>\n",
       "  <tbody>\n",
       "    <tr>\n",
       "      <th>SAINT-LAZARE</th>\n",
       "      <td>34376040</td>\n",
       "    </tr>\n",
       "    <tr>\n",
       "      <th>MONTPARNASSE</th>\n",
       "      <td>18301940</td>\n",
       "    </tr>\n",
       "    <tr>\n",
       "      <th>GARE DE L'EST</th>\n",
       "      <td>15388075</td>\n",
       "    </tr>\n",
       "    <tr>\n",
       "      <th>REPUBLIQUE</th>\n",
       "      <td>13268205</td>\n",
       "    </tr>\n",
       "    <tr>\n",
       "      <th>LES HALLES</th>\n",
       "      <td>12290650</td>\n",
       "    </tr>\n",
       "    <tr>\n",
       "      <th>BASTILLE</th>\n",
       "      <td>9187284</td>\n",
       "    </tr>\n",
       "    <tr>\n",
       "      <th>BELLEVILLE</th>\n",
       "      <td>9092300</td>\n",
       "    </tr>\n",
       "    <tr>\n",
       "      <th>PLACE D'ITALIE</th>\n",
       "      <td>8931491</td>\n",
       "    </tr>\n",
       "    <tr>\n",
       "      <th>BARBES-ROCHECHOUART</th>\n",
       "      <td>8852330</td>\n",
       "    </tr>\n",
       "    <tr>\n",
       "      <th>CHATELET</th>\n",
       "      <td>8652328</td>\n",
       "    </tr>\n",
       "  </tbody>\n",
       "</table>\n",
       "</div>"
      ],
      "text/plain": [
       "                        value\n",
       "stop                         \n",
       "SAINT-LAZARE         34376040\n",
       "MONTPARNASSE         18301940\n",
       "GARE DE L'EST        15388075\n",
       "REPUBLIQUE           13268205\n",
       "LES HALLES           12290650\n",
       "BASTILLE             9187284 \n",
       "BELLEVILLE           9092300 \n",
       "PLACE D'ITALIE       8931491 \n",
       "BARBES-ROCHECHOUART  8852330 \n",
       "CHATELET             8652328 "
      ]
     },
     "execution_count": 19,
     "metadata": {},
     "output_type": "execute_result"
    }
   ],
   "source": [
    "df.groupby('stop').sum().sort_values('value',ascending=False).head(10)"
   ]
  },
  {
   "cell_type": "markdown",
   "metadata": {},
   "source": [
    "## **Un**Popular stops"
   ]
  },
  {
   "cell_type": "code",
   "execution_count": 20,
   "metadata": {
    "ExecuteTime": {
     "end_time": "2018-03-24T19:31:07.144390Z",
     "start_time": "2018-03-24T19:31:07.058751Z"
    }
   },
   "outputs": [
    {
     "data": {
      "text/html": [
       "<div>\n",
       "<style scoped>\n",
       "    .dataframe tbody tr th:only-of-type {\n",
       "        vertical-align: middle;\n",
       "    }\n",
       "\n",
       "    .dataframe tbody tr th {\n",
       "        vertical-align: top;\n",
       "    }\n",
       "\n",
       "    .dataframe thead th {\n",
       "        text-align: right;\n",
       "    }\n",
       "</style>\n",
       "<table border=\"1\" class=\"dataframe\">\n",
       "  <thead>\n",
       "    <tr style=\"text-align: right;\">\n",
       "      <th></th>\n",
       "      <th>value</th>\n",
       "    </tr>\n",
       "    <tr>\n",
       "      <th>stop</th>\n",
       "      <th></th>\n",
       "    </tr>\n",
       "  </thead>\n",
       "  <tbody>\n",
       "    <tr>\n",
       "      <th>EGLISE D'AUTEUIL</th>\n",
       "      <td>134409</td>\n",
       "    </tr>\n",
       "    <tr>\n",
       "      <th>PELLEPORT</th>\n",
       "      <td>283532</td>\n",
       "    </tr>\n",
       "    <tr>\n",
       "      <th>PRE SAINT-GERVAIS</th>\n",
       "      <td>297832</td>\n",
       "    </tr>\n",
       "    <tr>\n",
       "      <th>BUTTES-CHAUMONT</th>\n",
       "      <td>408055</td>\n",
       "    </tr>\n",
       "    <tr>\n",
       "      <th>BOLIVAR</th>\n",
       "      <td>424286</td>\n",
       "    </tr>\n",
       "    <tr>\n",
       "      <th>PORTE D'AUTEUIL</th>\n",
       "      <td>433208</td>\n",
       "    </tr>\n",
       "    <tr>\n",
       "      <th>DANUBE</th>\n",
       "      <td>498702</td>\n",
       "    </tr>\n",
       "    <tr>\n",
       "      <th>CHARDON-LAGACHE</th>\n",
       "      <td>502612</td>\n",
       "    </tr>\n",
       "    <tr>\n",
       "      <th>SAINT-FARGEAU</th>\n",
       "      <td>562473</td>\n",
       "    </tr>\n",
       "    <tr>\n",
       "      <th>ASSEMBLEE NATIONALE</th>\n",
       "      <td>682788</td>\n",
       "    </tr>\n",
       "  </tbody>\n",
       "</table>\n",
       "</div>"
      ],
      "text/plain": [
       "                      value\n",
       "stop                       \n",
       "EGLISE D'AUTEUIL     134409\n",
       "PELLEPORT            283532\n",
       "PRE SAINT-GERVAIS    297832\n",
       "BUTTES-CHAUMONT      408055\n",
       "BOLIVAR              424286\n",
       "PORTE D'AUTEUIL      433208\n",
       "DANUBE               498702\n",
       "CHARDON-LAGACHE      502612\n",
       "SAINT-FARGEAU        562473\n",
       "ASSEMBLEE NATIONALE  682788"
      ]
     },
     "execution_count": 20,
     "metadata": {},
     "output_type": "execute_result"
    }
   ],
   "source": [
    "df.groupby('stop').sum().sort_values('value',ascending=True).head(10)"
   ]
  },
  {
   "cell_type": "markdown",
   "metadata": {},
   "source": [
    "## Improving data"
   ]
  },
  {
   "cell_type": "markdown",
   "metadata": {},
   "source": [
    "One issue with this approach is that it does not model well the number of people per line and therefore per train.\n",
    "\n",
    "We should at least take in account the number of line that go through each station\n",
    "\n",
    "There is a handy dataset published by the STIF that help for that"
   ]
  },
  {
   "cell_type": "code",
   "execution_count": 64,
   "metadata": {
    "ExecuteTime": {
     "end_time": "2018-03-24T20:16:08.197283Z",
     "start_time": "2018-03-24T20:16:08.187343Z"
    }
   },
   "outputs": [],
   "source": [
    "df_lines = load_stif('../data/raw/lignes.json')[['stop_name','route_short_name','pointgeo']]"
   ]
  },
  {
   "cell_type": "code",
   "execution_count": 116,
   "metadata": {
    "ExecuteTime": {
     "end_time": "2018-03-24T21:26:41.055229Z",
     "start_time": "2018-03-24T21:26:41.044636Z"
    }
   },
   "outputs": [
    {
     "data": {
      "text/html": [
       "<div>\n",
       "<style scoped>\n",
       "    .dataframe tbody tr th:only-of-type {\n",
       "        vertical-align: middle;\n",
       "    }\n",
       "\n",
       "    .dataframe tbody tr th {\n",
       "        vertical-align: top;\n",
       "    }\n",
       "\n",
       "    .dataframe thead th {\n",
       "        text-align: right;\n",
       "    }\n",
       "</style>\n",
       "<table border=\"1\" class=\"dataframe\">\n",
       "  <thead>\n",
       "    <tr style=\"text-align: right;\">\n",
       "      <th></th>\n",
       "      <th>stop_name</th>\n",
       "      <th>route_short_name</th>\n",
       "      <th>pointgeo</th>\n",
       "    </tr>\n",
       "  </thead>\n",
       "  <tbody>\n",
       "    <tr>\n",
       "      <th>0</th>\n",
       "      <td>Palais-Royal (Musée du Louvre)</td>\n",
       "      <td>1</td>\n",
       "      <td>[48.862375, 2.336592]</td>\n",
       "    </tr>\n",
       "    <tr>\n",
       "      <th>1</th>\n",
       "      <td>Château de Vincennes</td>\n",
       "      <td>1</td>\n",
       "      <td>[48.844327, 2.440572]</td>\n",
       "    </tr>\n",
       "    <tr>\n",
       "      <th>2</th>\n",
       "      <td>Bérault</td>\n",
       "      <td>1</td>\n",
       "      <td>[48.845371, 2.428264]</td>\n",
       "    </tr>\n",
       "    <tr>\n",
       "      <th>3</th>\n",
       "      <td>Pont de Neuilly</td>\n",
       "      <td>1</td>\n",
       "      <td>[48.88551, 2.258546]</td>\n",
       "    </tr>\n",
       "    <tr>\n",
       "      <th>4</th>\n",
       "      <td>Saint-Mandé</td>\n",
       "      <td>1</td>\n",
       "      <td>[48.846241, 2.419019]</td>\n",
       "    </tr>\n",
       "  </tbody>\n",
       "</table>\n",
       "</div>"
      ],
      "text/plain": [
       "                        stop_name route_short_name               pointgeo\n",
       "0  Palais-Royal (Musée du Louvre)  1                [48.862375, 2.336592]\n",
       "1  Château de Vincennes            1                [48.844327, 2.440572]\n",
       "2  Bérault                         1                [48.845371, 2.428264]\n",
       "3  Pont de Neuilly                 1                [48.88551, 2.258546] \n",
       "4  Saint-Mandé                     1                [48.846241, 2.419019]"
      ]
     },
     "execution_count": 116,
     "metadata": {},
     "output_type": "execute_result"
    }
   ],
   "source": [
    "df_lines.head()"
   ]
  },
  {
   "cell_type": "code",
   "execution_count": 117,
   "metadata": {
    "ExecuteTime": {
     "end_time": "2018-03-24T21:27:06.683423Z",
     "start_time": "2018-03-24T21:27:06.673119Z"
    }
   },
   "outputs": [],
   "source": [
    "df_mapping=(df_lines.groupby('stop_name').count()[['route_short_name']]\n",
    " .rename(columns={'route_short_name':'nb_lines'})\n",
    " .reset_index()\n",
    " .rename(columns={'stop_name':'stop'})\n",
    " #to merge easily with other data\n",
    " .assign(stop=lambda x : x.stop.str.lower())\n",
    ")"
   ]
  },
  {
   "cell_type": "code",
   "execution_count": 118,
   "metadata": {
    "ExecuteTime": {
     "end_time": "2018-03-24T21:27:08.103220Z",
     "start_time": "2018-03-24T21:27:07.922108Z"
    }
   },
   "outputs": [],
   "source": [
    "df.stop = df['stop'].apply(lambda x :x.lower())"
   ]
  },
  {
   "cell_type": "code",
   "execution_count": 119,
   "metadata": {
    "ExecuteTime": {
     "end_time": "2018-03-24T21:27:10.420725Z",
     "start_time": "2018-03-24T21:27:09.840768Z"
    }
   },
   "outputs": [],
   "source": [
    "df_merged = pd.merge(df,df_mapping,on='stop')"
   ]
  },
  {
   "cell_type": "markdown",
   "metadata": {
    "ExecuteTime": {
     "end_time": "2018-03-24T20:52:27.909924Z",
     "start_time": "2018-03-24T20:52:27.725997Z"
    }
   },
   "source": [
    "I make the assumption that every line is equally likely to be chosen by a traveler \n",
    "\n",
    "Which more or less hold according to this [wikipedia draft](https://fr.wikipedia.org/wiki/Liste_des_lignes_de_m%C3%A9tro_parisiennes_par_fr%C3%A9quentation)"
   ]
  },
  {
   "cell_type": "code",
   "execution_count": 102,
   "metadata": {
    "ExecuteTime": {
     "end_time": "2018-03-24T20:59:08.314340Z",
     "start_time": "2018-03-24T20:59:08.307746Z"
    }
   },
   "outputs": [],
   "source": [
    "df_merged['normalized'] = df_merged.value.div(df_merged.nb_lines)"
   ]
  },
  {
   "cell_type": "code",
   "execution_count": 103,
   "metadata": {
    "ExecuteTime": {
     "end_time": "2018-03-24T20:59:13.973065Z",
     "start_time": "2018-03-24T20:59:13.959113Z"
    }
   },
   "outputs": [
    {
     "data": {
      "text/html": [
       "<div>\n",
       "<style scoped>\n",
       "    .dataframe tbody tr th:only-of-type {\n",
       "        vertical-align: middle;\n",
       "    }\n",
       "\n",
       "    .dataframe tbody tr th {\n",
       "        vertical-align: top;\n",
       "    }\n",
       "\n",
       "    .dataframe thead th {\n",
       "        text-align: right;\n",
       "    }\n",
       "</style>\n",
       "<table border=\"1\" class=\"dataframe\">\n",
       "  <thead>\n",
       "    <tr style=\"text-align: right;\">\n",
       "      <th></th>\n",
       "      <th>kind</th>\n",
       "      <th>date</th>\n",
       "      <th>stop</th>\n",
       "      <th>value</th>\n",
       "      <th>sem</th>\n",
       "      <th>nb_lines</th>\n",
       "      <th>normalized</th>\n",
       "    </tr>\n",
       "  </thead>\n",
       "  <tbody>\n",
       "    <tr>\n",
       "      <th>0</th>\n",
       "      <td>NAVIGO</td>\n",
       "      <td>2017-03-17</td>\n",
       "      <td>mairie de montreuil</td>\n",
       "      <td>16509</td>\n",
       "      <td>S1-2017</td>\n",
       "      <td>1</td>\n",
       "      <td>16509.0</td>\n",
       "    </tr>\n",
       "    <tr>\n",
       "      <th>1</th>\n",
       "      <td>AUTRE TITRE</td>\n",
       "      <td>2017-01-01</td>\n",
       "      <td>mairie de montreuil</td>\n",
       "      <td>56</td>\n",
       "      <td>S1-2017</td>\n",
       "      <td>1</td>\n",
       "      <td>56.0</td>\n",
       "    </tr>\n",
       "    <tr>\n",
       "      <th>2</th>\n",
       "      <td>AMETHYSTE</td>\n",
       "      <td>2017-06-30</td>\n",
       "      <td>mairie de montreuil</td>\n",
       "      <td>430</td>\n",
       "      <td>S1-2017</td>\n",
       "      <td>1</td>\n",
       "      <td>430.0</td>\n",
       "    </tr>\n",
       "    <tr>\n",
       "      <th>3</th>\n",
       "      <td>AUTRE TITRE</td>\n",
       "      <td>2017-06-30</td>\n",
       "      <td>mairie de montreuil</td>\n",
       "      <td>203</td>\n",
       "      <td>S1-2017</td>\n",
       "      <td>1</td>\n",
       "      <td>203.0</td>\n",
       "    </tr>\n",
       "    <tr>\n",
       "      <th>4</th>\n",
       "      <td>FGT</td>\n",
       "      <td>2017-06-30</td>\n",
       "      <td>mairie de montreuil</td>\n",
       "      <td>1228</td>\n",
       "      <td>S1-2017</td>\n",
       "      <td>1</td>\n",
       "      <td>1228.0</td>\n",
       "    </tr>\n",
       "  </tbody>\n",
       "</table>\n",
       "</div>"
      ],
      "text/plain": [
       "          kind       date                 stop  value      sem  nb_lines  \\\n",
       "0  NAVIGO      2017-03-17  mairie de montreuil  16509  S1-2017  1          \n",
       "1  AUTRE TITRE 2017-01-01  mairie de montreuil  56     S1-2017  1          \n",
       "2  AMETHYSTE   2017-06-30  mairie de montreuil  430    S1-2017  1          \n",
       "3  AUTRE TITRE 2017-06-30  mairie de montreuil  203    S1-2017  1          \n",
       "4  FGT         2017-06-30  mairie de montreuil  1228   S1-2017  1          \n",
       "\n",
       "   normalized  \n",
       "0  16509.0     \n",
       "1  56.0        \n",
       "2  430.0       \n",
       "3  203.0       \n",
       "4  1228.0      "
      ]
     },
     "execution_count": 103,
     "metadata": {},
     "output_type": "execute_result"
    }
   ],
   "source": [
    "df_merged.head()"
   ]
  },
  {
   "cell_type": "code",
   "execution_count": 114,
   "metadata": {
    "ExecuteTime": {
     "end_time": "2018-03-24T21:11:23.922760Z",
     "start_time": "2018-03-24T21:11:23.850639Z"
    }
   },
   "outputs": [
    {
     "data": {
      "text/html": [
       "<div>\n",
       "<style scoped>\n",
       "    .dataframe tbody tr th:only-of-type {\n",
       "        vertical-align: middle;\n",
       "    }\n",
       "\n",
       "    .dataframe tbody tr th {\n",
       "        vertical-align: top;\n",
       "    }\n",
       "\n",
       "    .dataframe thead th {\n",
       "        text-align: right;\n",
       "    }\n",
       "</style>\n",
       "<table border=\"1\" class=\"dataframe\">\n",
       "  <thead>\n",
       "    <tr style=\"text-align: right;\">\n",
       "      <th></th>\n",
       "      <th>value</th>\n",
       "      <th>nb_lines</th>\n",
       "    </tr>\n",
       "    <tr>\n",
       "      <th>stop</th>\n",
       "      <th></th>\n",
       "      <th></th>\n",
       "    </tr>\n",
       "  </thead>\n",
       "  <tbody>\n",
       "    <tr>\n",
       "      <th>saint-lazare</th>\n",
       "      <td>34376040</td>\n",
       "      <td>4</td>\n",
       "    </tr>\n",
       "    <tr>\n",
       "      <th>les halles</th>\n",
       "      <td>12290650</td>\n",
       "      <td>1</td>\n",
       "    </tr>\n",
       "    <tr>\n",
       "      <th>bastille</th>\n",
       "      <td>9187284</td>\n",
       "      <td>3</td>\n",
       "    </tr>\n",
       "    <tr>\n",
       "      <th>belleville</th>\n",
       "      <td>9092300</td>\n",
       "      <td>2</td>\n",
       "    </tr>\n",
       "    <tr>\n",
       "      <th>place d'italie</th>\n",
       "      <td>8931491</td>\n",
       "      <td>3</td>\n",
       "    </tr>\n",
       "    <tr>\n",
       "      <th>strasbourg-saint-denis</th>\n",
       "      <td>7904836</td>\n",
       "      <td>3</td>\n",
       "    </tr>\n",
       "    <tr>\n",
       "      <th>gare du nord</th>\n",
       "      <td>7440791</td>\n",
       "      <td>2</td>\n",
       "    </tr>\n",
       "    <tr>\n",
       "      <th>nation</th>\n",
       "      <td>6939254</td>\n",
       "      <td>4</td>\n",
       "    </tr>\n",
       "    <tr>\n",
       "      <th>place de clichy</th>\n",
       "      <td>6716027</td>\n",
       "      <td>2</td>\n",
       "    </tr>\n",
       "    <tr>\n",
       "      <th>porte de clignancourt</th>\n",
       "      <td>6659485</td>\n",
       "      <td>1</td>\n",
       "    </tr>\n",
       "  </tbody>\n",
       "</table>\n",
       "</div>"
      ],
      "text/plain": [
       "                           value  nb_lines\n",
       "stop                                      \n",
       "saint-lazare            34376040  4       \n",
       "les halles              12290650  1       \n",
       "bastille                9187284   3       \n",
       "belleville              9092300   2       \n",
       "place d'italie          8931491   3       \n",
       "strasbourg-saint-denis  7904836   3       \n",
       "gare du nord            7440791   2       \n",
       "nation                  6939254   4       \n",
       "place de clichy         6716027   2       \n",
       "porte de clignancourt   6659485   1       "
      ]
     },
     "execution_count": 114,
     "metadata": {},
     "output_type": "execute_result"
    }
   ],
   "source": [
    "import numpy as np\n",
    "(df_merged.groupby('stop').agg({'value':sum,'nb_lines':np.unique})\n",
    " .sort_values('value',ascending=False).head(10))"
   ]
  },
  {
   "cell_type": "code",
   "execution_count": 113,
   "metadata": {
    "ExecuteTime": {
     "end_time": "2018-03-24T21:10:58.670069Z",
     "start_time": "2018-03-24T21:10:58.597567Z"
    }
   },
   "outputs": [
    {
     "data": {
      "text/html": [
       "<div>\n",
       "<style scoped>\n",
       "    .dataframe tbody tr th:only-of-type {\n",
       "        vertical-align: middle;\n",
       "    }\n",
       "\n",
       "    .dataframe tbody tr th {\n",
       "        vertical-align: top;\n",
       "    }\n",
       "\n",
       "    .dataframe thead th {\n",
       "        text-align: right;\n",
       "    }\n",
       "</style>\n",
       "<table border=\"1\" class=\"dataframe\">\n",
       "  <thead>\n",
       "    <tr style=\"text-align: right;\">\n",
       "      <th></th>\n",
       "      <th>value</th>\n",
       "      <th>nb_lines</th>\n",
       "    </tr>\n",
       "    <tr>\n",
       "      <th>stop</th>\n",
       "      <th></th>\n",
       "      <th></th>\n",
       "    </tr>\n",
       "  </thead>\n",
       "  <tbody>\n",
       "    <tr>\n",
       "      <th>eglise d'auteuil</th>\n",
       "      <td>134409</td>\n",
       "      <td>1</td>\n",
       "    </tr>\n",
       "    <tr>\n",
       "      <th>pelleport</th>\n",
       "      <td>283532</td>\n",
       "      <td>1</td>\n",
       "    </tr>\n",
       "    <tr>\n",
       "      <th>buttes-chaumont</th>\n",
       "      <td>408055</td>\n",
       "      <td>1</td>\n",
       "    </tr>\n",
       "    <tr>\n",
       "      <th>bolivar</th>\n",
       "      <td>424286</td>\n",
       "      <td>1</td>\n",
       "    </tr>\n",
       "    <tr>\n",
       "      <th>porte d'auteuil</th>\n",
       "      <td>433208</td>\n",
       "      <td>1</td>\n",
       "    </tr>\n",
       "    <tr>\n",
       "      <th>danube</th>\n",
       "      <td>498702</td>\n",
       "      <td>1</td>\n",
       "    </tr>\n",
       "    <tr>\n",
       "      <th>chardon-lagache</th>\n",
       "      <td>502612</td>\n",
       "      <td>1</td>\n",
       "    </tr>\n",
       "    <tr>\n",
       "      <th>saint-fargeau</th>\n",
       "      <td>562473</td>\n",
       "      <td>1</td>\n",
       "    </tr>\n",
       "    <tr>\n",
       "      <th>botzaris</th>\n",
       "      <td>737641</td>\n",
       "      <td>1</td>\n",
       "    </tr>\n",
       "    <tr>\n",
       "      <th>vaneau</th>\n",
       "      <td>740749</td>\n",
       "      <td>1</td>\n",
       "    </tr>\n",
       "  </tbody>\n",
       "</table>\n",
       "</div>"
      ],
      "text/plain": [
       "                   value  nb_lines\n",
       "stop                              \n",
       "eglise d'auteuil  134409  1       \n",
       "pelleport         283532  1       \n",
       "buttes-chaumont   408055  1       \n",
       "bolivar           424286  1       \n",
       "porte d'auteuil   433208  1       \n",
       "danube            498702  1       \n",
       "chardon-lagache   502612  1       \n",
       "saint-fargeau     562473  1       \n",
       "botzaris          737641  1       \n",
       "vaneau            740749  1       "
      ]
     },
     "execution_count": 113,
     "metadata": {},
     "output_type": "execute_result"
    }
   ],
   "source": [
    "import numpy as np\n",
    "(df_merged.groupby('stop').agg({'value':sum,'nb_lines':np.unique})\n",
    " .sort_values('value',ascending=True).head(10))"
   ]
  },
  {
   "cell_type": "code",
   "execution_count": null,
   "metadata": {},
   "outputs": [],
   "source": [
    "df.groupby"
   ]
  }
 ],
 "metadata": {
  "kernelspec": {
   "display_name": "Python 3",
   "language": "python",
   "name": "python3"
  },
  "language_info": {
   "codemirror_mode": {
    "name": "ipython",
    "version": 3
   },
   "file_extension": ".py",
   "mimetype": "text/x-python",
   "name": "python",
   "nbconvert_exporter": "python",
   "pygments_lexer": "ipython3",
   "version": "3.6.3"
  },
  "toc": {
   "nav_menu": {},
   "number_sections": true,
   "sideBar": true,
   "skip_h1_title": false,
   "toc_cell": false,
   "toc_position": {},
   "toc_section_display": "block",
   "toc_window_display": false
  }
 },
 "nbformat": 4,
 "nbformat_minor": 2
}
